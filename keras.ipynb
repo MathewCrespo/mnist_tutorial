{
 "cells": [
  {
   "cell_type": "markdown",
   "metadata": {},
   "source": [
    "# Keras Tutorial"
   ]
  },
  {
   "cell_type": "markdown",
   "metadata": {},
   "source": [
    "Keras is a popular deep learning framework and it's easy to get started."
   ]
  },
  {
   "cell_type": "code",
   "execution_count": 4,
   "metadata": {},
   "outputs": [
    {
     "name": "stderr",
     "output_type": "stream",
     "text": [
      "Using TensorFlow backend.\n"
     ]
    }
   ],
   "source": [
    "import keras\n",
    "from keras.datasets import mnist\n",
    "from keras.models import Sequential\n",
    "from keras.layers import Dense, Dropout, Flatten, Conv2D, MaxPooling2D\n",
    "import os\n",
    "\n",
    "BATCH_SIZE = 128\n",
    "NUM_CLASSES = 10\n",
    "NUM_EPOCHS = 10"
   ]
  },
  {
   "cell_type": "markdown",
   "metadata": {},
   "source": [
    "First, we read the mnist data and preprocess them."
   ]
  },
  {
   "cell_type": "code",
   "execution_count": 5,
   "metadata": {},
   "outputs": [],
   "source": [
    "# download and load the data (split them between train and test sets)\n",
    "(x_train, y_train), (x_test, y_test) = mnist.load_data()\n",
    "\n",
    "# expand the channel dimension\n",
    "x_train = x_train.reshape(x_train.shape[0], 28, 28, 1)\n",
    "x_test = x_test.reshape(x_test.shape[0], 28, 28, 1)\n",
    "input_shape = (28, 28, 1)\n",
    "\n",
    "# make the value of pixels from [0, 255] to [0, 1] for further process\n",
    "x_train = x_train.astype('float32') / 255.\n",
    "x_test = x_test.astype('float32') / 255.\n",
    "\n",
    "# convert class vectors to binary class matrics\n",
    "y_train = keras.utils.to_categorical(y_train, NUM_CLASSES)\n",
    "y_test = keras.utils.to_categorical(y_test, NUM_CLASSES)"
   ]
  },
  {
   "cell_type": "markdown",
   "metadata": {},
   "source": [
    "Then, we define the model, object function and optimizer that we use to classify."
   ]
  },
  {
   "cell_type": "code",
   "execution_count": 6,
   "metadata": {},
   "outputs": [
    {
     "name": "stdout",
     "output_type": "stream",
     "text": [
      "Model: \"sequential_1\"\n",
      "_________________________________________________________________\n",
      "Layer (type)                 Output Shape              Param #   \n",
      "=================================================================\n",
      "conv2d_1 (Conv2D)            (None, 28, 28, 16)        80        \n",
      "_________________________________________________________________\n",
      "max_pooling2d_1 (MaxPooling2 (None, 14, 14, 16)        0         \n",
      "_________________________________________________________________\n",
      "dropout_1 (Dropout)          (None, 14, 14, 16)        0         \n",
      "_________________________________________________________________\n",
      "conv2d_2 (Conv2D)            (None, 14, 14, 32)        2080      \n",
      "_________________________________________________________________\n",
      "max_pooling2d_2 (MaxPooling2 (None, 7, 7, 32)          0         \n",
      "_________________________________________________________________\n",
      "dropout_2 (Dropout)          (None, 7, 7, 32)          0         \n",
      "_________________________________________________________________\n",
      "conv2d_3 (Conv2D)            (None, 7, 7, 64)          8256      \n",
      "_________________________________________________________________\n",
      "flatten_1 (Flatten)          (None, 3136)              0         \n",
      "_________________________________________________________________\n",
      "dense_1 (Dense)              (None, 500)               1568500   \n",
      "_________________________________________________________________\n",
      "dense_2 (Dense)              (None, 10)                5010      \n",
      "=================================================================\n",
      "Total params: 1,583,926\n",
      "Trainable params: 1,583,926\n",
      "Non-trainable params: 0\n",
      "_________________________________________________________________\n"
     ]
    }
   ],
   "source": [
    "# define the model\n",
    "model = Sequential()\n",
    "model.add(Conv2D(filters=16, kernel_size = 2, padding = 'same', activation = 'relu',input_shape = (28, 28, 1)))\n",
    "model.add(MaxPooling2D(pool_size = 2))\n",
    "model.add(Dropout(0.2))\n",
    "model.add(Conv2D(filters = 32, kernel_size = 2, padding = 'same', activation = 'relu'))\n",
    "model.add(MaxPooling2D(pool_size = 2))\n",
    "model.add(Dropout(0.2))\n",
    "model.add(Conv2D(filters = 64, kernel_size = 2, padding = 'same', activation = 'relu'))\n",
    "model.add(Flatten())\n",
    "model.add(Dense(500, activation = 'relu'))\n",
    "model.add(Dense(10, activation = 'softmax'))\n",
    "model.summary()\n",
    "# define the object function, optimizer and metrics\n",
    "model.compile(optimizer='adadelta', loss='categorical_crossentropy', metrics=['accuracy'])"
   ]
  },
  {
   "cell_type": "markdown",
   "metadata": {},
   "source": [
    "Next, we can start to train and evaluate!"
   ]
  },
  {
   "cell_type": "code",
   "execution_count": 7,
   "metadata": {},
   "outputs": [
    {
     "name": "stdout",
     "output_type": "stream",
     "text": [
      "Train on 60000 samples, validate on 10000 samples\n",
      "Epoch 1/10\n",
      "60000/60000 [==============================] - 35s 580us/step - loss: 0.2886 - accuracy: 0.9067 - val_loss: 0.0654 - val_accuracy: 0.9787\n",
      "Epoch 2/10\n",
      "60000/60000 [==============================] - 33s 546us/step - loss: 0.0811 - accuracy: 0.9742 - val_loss: 0.0413 - val_accuracy: 0.9866\n",
      "Epoch 3/10\n",
      "60000/60000 [==============================] - 34s 574us/step - loss: 0.0594 - accuracy: 0.9812 - val_loss: 0.0377 - val_accuracy: 0.9872\n",
      "Epoch 4/10\n",
      "60000/60000 [==============================] - 32s 537us/step - loss: 0.0465 - accuracy: 0.9853 - val_loss: 0.0300 - val_accuracy: 0.9906\n",
      "Epoch 5/10\n",
      "60000/60000 [==============================] - 33s 557us/step - loss: 0.0392 - accuracy: 0.9873 - val_loss: 0.0289 - val_accuracy: 0.9911\n",
      "Epoch 6/10\n",
      "60000/60000 [==============================] - 32s 529us/step - loss: 0.0336 - accuracy: 0.9888 - val_loss: 0.0298 - val_accuracy: 0.9894\n",
      "Epoch 7/10\n",
      "60000/60000 [==============================] - 33s 550us/step - loss: 0.0300 - accuracy: 0.9901 - val_loss: 0.0259 - val_accuracy: 0.9912\n",
      "Epoch 8/10\n",
      "60000/60000 [==============================] - 33s 551us/step - loss: 0.0277 - accuracy: 0.9910 - val_loss: 0.0237 - val_accuracy: 0.9927\n",
      "Epoch 9/10\n",
      "60000/60000 [==============================] - 32s 536us/step - loss: 0.0248 - accuracy: 0.9919 - val_loss: 0.0279 - val_accuracy: 0.9914\n",
      "Epoch 10/10\n",
      "60000/60000 [==============================] - 32s 533us/step - loss: 0.0219 - accuracy: 0.9929 - val_loss: 0.0272 - val_accuracy: 0.9918\n",
      "loss: 0.02724006278290035\n",
      "accu: 0.9918000102043152\n"
     ]
    }
   ],
   "source": [
    "# train\n",
    "model.fit(x_train, y_train, batch_size= 128, epochs=10, verbose= 1, validation_data=(x_test, y_test))\n",
    "\n",
    "# evaluate\n",
    "score = model.evaluate(x_test, y_test, verbose=0)\n",
    "print(\"loss:\", score[0])\n",
    "print(\"accu:\", score[1])"
   ]
  },
  {
   "cell_type": "markdown",
   "metadata": {},
   "source": [
    "#### Q6:\n",
    "Please print the training and testing accuracy."
   ]
  },
  {
   "cell_type": "code",
   "execution_count": 8,
   "metadata": {},
   "outputs": [
    {
     "name": "stdout",
     "output_type": "stream",
     "text": [
      "training accuracy= 0.9970333576202393\n",
      "test accuracy= 0.9918000102043152\n"
     ]
    }
   ],
   "source": [
    "score_train = model.evaluate(x_train, y_train, verbose=0)\n",
    "print(\"training accuracy=\", score_train[1])\n",
    "print(\"test accuracy=\", score[1])"
   ]
  }
 ],
 "metadata": {
  "kernelspec": {
   "display_name": "Python 3",
   "language": "python",
   "name": "python3"
  },
  "language_info": {
   "codemirror_mode": {
    "name": "ipython",
    "version": 3
   },
   "file_extension": ".py",
   "mimetype": "text/x-python",
   "name": "python",
   "nbconvert_exporter": "python",
   "pygments_lexer": "ipython3",
   "version": "3.7.3"
  }
 },
 "nbformat": 4,
 "nbformat_minor": 2
}
